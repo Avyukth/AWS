{
 "cells": [
  {
   "cell_type": "code",
   "execution_count": null,
   "metadata": {
    "colab": {
     "autoexec": {
      "startup": false,
      "wait_interval": 0
     },
     "base_uri": "https://localhost:8080/",
     "height": 2394,
     "output_extras": [
      {
       "item_id": 14
      },
      {
       "item_id": 36
      }
     ]
    },
    "colab_type": "code",
    "executionInfo": {
     "elapsed": 41100,
     "status": "ok",
     "timestamp": 1521638842246,
     "user": {
      "displayName": "Subhrajit Makur cs17m046",
      "photoUrl": "https://lh3.googleusercontent.com/a/default-user=s128",
      "userId": "115335946469843885531"
     },
     "user_tz": -330
    },
    "id": "hpQzYwq3tY1Y",
    "outputId": "63c557df-e2e6-4d39-e899-c71affc2870f"
   },
   "outputs": [],
   "source": [
    "!pip install -U -q PyDrive\n",
    "!apt-get install -y -qq software-properties-common python-software-properties module-init-tools\n",
    "!add-apt-repository -y ppa:alessandro-strada/ppa 2>&1 > /dev/null\n",
    "!apt-get update -qq 2>&1 > /dev/null\n",
    "!apt-get -y install -qq google-drive-ocamlfuse fuse"
   ]
  },
  {
   "cell_type": "code",
   "execution_count": null,
   "metadata": {
    "colab": {
     "autoexec": {
      "startup": false,
      "wait_interval": 0
     }
    },
    "colab_type": "code",
    "id": "sU3CsPMItP2C"
   },
   "outputs": [],
   "source": [
    "\n",
    "import getpass\n",
    "from pydrive.auth import GoogleAuth\n",
    "from pydrive.drive import GoogleDrive \n",
    "from google.colab import auth \n",
    "from oauth2client.client import GoogleCredentials\n",
    "\n",
    "# 1. Authenticate and create the PyDrive client.\n",
    "auth.authenticate_user()\n",
    "gauth = GoogleAuth()\n",
    "gauth.credentials = GoogleCredentials.get_application_default()\n"
   ]
  },
  {
   "cell_type": "code",
   "execution_count": null,
   "metadata": {
    "colab": {
     "autoexec": {
      "startup": false,
      "wait_interval": 0
     },
     "base_uri": "https://localhost:8080/",
     "height": 109,
     "output_extras": [
      {
       "item_id": 4
      }
     ]
    },
    "colab_type": "code",
    "executionInfo": {
     "elapsed": 16034,
     "status": "ok",
     "timestamp": 1521639098960,
     "user": {
      "displayName": "Subhrajit Makur cs17m046",
      "photoUrl": "https://lh3.googleusercontent.com/a/default-user=s128",
      "userId": "115335946469843885531"
     },
     "user_tz": -330
    },
    "id": "KY4QlOOqwJlo",
    "outputId": "570df34f-6fe4-4268-b00e-71efb53e31e1"
   },
   "outputs": [],
   "source": [
    "!google-drive-ocamlfuse -headless -id={gauth.credentials.client_id} -secret={gauth.credentials.client_secret} < /dev/null 2>&1 | grep URL\n",
    "vcode = getpass.getpass()\n",
    "!echo {vcode} | google-drive-ocamlfuse -headless -id={gauth.credentials.client_id} -secret={gauth.credentials.client_secret}\n",
    "!mkdir -p drive\n",
    "!google-drive-ocamlfuse drive"
   ]
  },
  {
   "cell_type": "code",
   "execution_count": null,
   "metadata": {},
   "outputs": [],
   "source": [
    "#### if you use pytorch\n",
    "!pip install http://download.pytorch.org/whl/cu91/torch-0.3.1-cp36-cp36m-linux_x86_64.whl \n",
    "!pip install torchvision\n",
    "\n",
    "    "
   ]
  },
  {
   "cell_type": "code",
   "execution_count": null,
   "metadata": {
    "colab": {
     "autoexec": {
      "startup": false,
      "wait_interval": 0
     }
    },
    "colab_type": "code",
    "id": "wegI36-_xTjK"
   },
   "outputs": [],
   "source": [
    "##### put all data file in google drive and get sharable Link and extract ID \n",
    "localdrive = GoogleDrive(gauth)\n",
    "train_file_id =  'put--Sharable--link--ID'\n",
    "val_file_id = 'put--Sharable--link--ID'\n",
    "test_file_id = 'put--Sharable--link--ID'\n",
    "cnn_file_id ='put--Sharable--link--ID'\n",
    "\n",
    "train_file = localdrive.CreateFile({'id': train_file_id})\n",
    "val_file = localdrive.CreateFile({'id': val_file_id}) \n",
    "test_file = localdrive.CreateFile({'id': test_file_id})\n",
    "cnn = localdrive.CreateFile({'id': cnn_file_id})\n",
    "\n",
    "# allows you to temporarily load your file in the notebook VM\n",
    "# assume the file is called file.csv and it's located at the root of your VM localdrive\n",
    "\n",
    "train_file.GetContentFile('train.csv')\n",
    "val_file.GetContentFile('val.csv')\n",
    "test_file.GetContentFile('test.csv')\n",
    "cnn.GetContentFile('cnn.py')"
   ]
  },
  {
   "cell_type": "code",
   "execution_count": null,
   "metadata": {},
   "outputs": [],
   "source": [
    "import tensorflow as tf\n",
    "import pandas as pd\n",
    "import numpy as np\n",
    "import matplotlib.pyplot as plt\n",
    "import pickle\n",
    "import copy\n",
    "from PIL import Image\n",
    "from scipy import ndimage\n",
    "%matplotlib inline\n",
    "%reload_ext autoreload\n"
   ]
  },
  {
   "cell_type": "code",
   "execution_count": null,
   "metadata": {
    "colab": {
     "autoexec": {
      "startup": false,
      "wait_interval": 0
     }
    },
    "colab_type": "code",
    "id": "MtU-w0jfxdbk"
   },
   "outputs": [],
   "source": [
    "#Check you can dump your output in your google Drive \n",
    "parameters=[1,2,3]\n",
    "import pickle\n",
    "with open('drive/variables1024.pickle', 'wb') as f:\n",
    "    pickle.dump(parameters, f)"
   ]
  }
 ],
 "metadata": {
  "colab": {
   "default_view": {},
   "name": "Colab Setup.ipynb",
   "provenance": [],
   "version": "0.3.2",
   "views": {}
  },
  "kernelspec": {
   "display_name": "Python 3",
   "language": "python",
   "name": "python3"
  },
  "language_info": {
   "codemirror_mode": {
    "name": "ipython",
    "version": 3
   },
   "file_extension": ".py",
   "mimetype": "text/x-python",
   "name": "python",
   "nbconvert_exporter": "python",
   "pygments_lexer": "ipython3",
   "version": "3.6.4"
  }
 },
 "nbformat": 4,
 "nbformat_minor": 1
}
